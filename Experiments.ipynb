{
 "cells": [
  {
   "cell_type": "code",
   "execution_count": null,
   "id": "unsigned-generic",
   "metadata": {},
   "outputs": [],
   "source": [
    "import pandas as pd\n",
    "import numpy as np\n",
    "\n",
    "dat = pd.read_csv('Data/subject_data.csv')\n",
    "full_curves = np.load('Data/full-curves.npy')\n",
    "baseline = dat[['IntraCranialVol', 'lhCortexVol', 'rhCortexVol', 'CortexVol',\n",
    "       'SubCortGrayVol', 'TotalGrayVol', 'SupraTentorialVol',\n",
    "       'lhCorticalWhiteMatterVol', 'rhCorticalWhiteMatterVol',\n",
    "       'CorticalWhiteMatterVol']]"
   ]
  },
  {
   "cell_type": "markdown",
   "id": "upper-worker",
   "metadata": {},
   "source": [
    "## Residuals"
   ]
  },
  {
   "cell_type": "code",
   "execution_count": null,
   "id": "derived-ground",
   "metadata": {},
   "outputs": [],
   "source": [
    "from sklearn.model_selection import train_test_split\n",
    "from IPython.display import display, Math\n",
    "\n",
    "\n",
    "from sklearn.ensemble import RandomForestClassifier\n",
    "from sklearn.svm import SVC\n",
    "from sklearn.linear_model import LinearRegression\n",
    "from sklearn.metrics import balanced_accuracy_score, f1_score\n",
    "bacc = []\n",
    "f1 = []\n",
    "# No. samples to use to train regression model\n",
    "n = 200\n",
    "# Select features to use to train model GM: 0:300, WM: 300:600, Point cloud: 600:800\n",
    "features = full_curves[:, :600]\n",
    "# features = baseline\n",
    "classifier = SVC(kernel='rbf', probability=True, class_weight='balanced')\n",
    "regressor = LinearRegression()\n",
    "\n",
    "for _ in range(5):\n",
    "    Xtrain, Xtest, ytrain, ytest = train_test_split(features,dat,test_size=0.2)\n",
    "    \n",
    "    # Isolate data for regression model\n",
    "    ytrain = ytrain.reset_index(drop=True)\n",
    "    healthy = ytrain[~ytrain['isSick']].sample(n, replace=False)\n",
    "    mask = np.zeros((ytrain.shape[0]), dtype=bool)\n",
    "    mask[healthy.index] = 1\n",
    "    Xtrain_reg = Xtrain[mask]\n",
    "\n",
    "    regressor.fit(healthy['Age'].to_numpy().reshape(-1, 1), Xtrain_reg)\n",
    "\n",
    "    # Fit classification model, predict results and compute scores\n",
    "    ytrain_class = ytrain[~ytrain.index.isin(healthy.index)]                \n",
    "    classifier.fit(Xtrain[~mask] - regressor.predict(ytrain_class['Age'].to_numpy().reshape(-1, 1)), ytrain_class['isSick'])\n",
    "    predictions = classifier.predict(Xtest - regressor.predict(ytest['Age'].to_numpy().reshape(-1, 1)))\n",
    "    bacc.append(balanced_accuracy_score(ytest['isSick'], predictions))\n",
    "    f1.append(f1_score(ytest['isSick'], predictions))\n",
    "    \n",
    "\n",
    "display(Math(r'\\text{{Balanced accuracy: }}{} \\pm {}'.format(np.mean(bacc), np.std(bacc))))\n",
    "display(Math(r'\\text{{F1: }}{} \\pm {}'.format(np.mean(f1), np.std(f1))))"
   ]
  },
  {
   "cell_type": "markdown",
   "id": "framed-theorem",
   "metadata": {},
   "source": [
    "## Raw"
   ]
  },
  {
   "cell_type": "code",
   "execution_count": null,
   "id": "binary-privilege",
   "metadata": {},
   "outputs": [],
   "source": [
    "# Compute model performance on raw Betti curves\n",
    "bacc = []\n",
    "f1 = []\n",
    "\n",
    "for _ in range(5):\n",
    "    Xtrain, Xtest, ytrain, ytest = train_test_split(full_curves[:, :400],dat['isSick'], test_size=0.2, stratify=dat['isSick'])\n",
    "\n",
    "    classifier.fit(Xtrain, ytrain)\n",
    "    predictions = classifier.predict(Xtest)\n",
    "    bacc.append(balanced_accuracy_score(ytest, predictions))\n",
    "    f1.append(f1_score(ytest, predictions))\n",
    "display(Math(r'\\text{{Balanced accuracy: }}{} \\pm {}'.format(np.mean(bacc), np.std(bacc))))\n",
    "display(Math(r'\\text{{F1: }}{} \\pm {}'.format(np.mean(f1), np.std(f1))))"
   ]
  },
  {
   "cell_type": "markdown",
   "id": "secondary-laser",
   "metadata": {},
   "source": [
    "## Age prediction"
   ]
  },
  {
   "cell_type": "code",
   "execution_count": null,
   "id": "operating-mixture",
   "metadata": {},
   "outputs": [],
   "source": [
    "from sklearn.ensemble import RandomForestRegressor\n",
    "from sklearn.metrics import balanced_accuracy_score, f1_score, mean_absolute_error, r2_score\n",
    "\n",
    "mae = []\n",
    "r2 = []\n",
    "# Use only healthy participants\n",
    "ages = dat[~dat['isSick']]['Age']\n",
    "# curves = baseline.iloc[ages.index]\n",
    "curves = full_curves[ages.index, :300]\n",
    "regressor = RandomForestRegressor()\n",
    "\n",
    "for _ in range(5):\n",
    "    Xtrain, Xtest, ytrain, ytest = train_test_split(curves,ages, test_size=0.2)\n",
    "\n",
    "    regressor.fit(Xtrain, ytrain)\n",
    "    predictions = regressor.predict(Xtest)\n",
    "    m = mean_absolute_error(ytest, predictions)\n",
    "    r = r2_score(ytest, predictions)\n",
    "    mae.append(m)\n",
    "    r2.append(r)\n",
    "    print(m, r)\n",
    "display(Math(r'\\text{{MAE: }}{} \\pm {}'.format(np.mean(mae), np.std(mae))))\n",
    "display(Math(r'\\text{{r2: }}{} \\pm {}'.format(np.mean(r2), np.std(r2))))"
   ]
  }
 ],
 "metadata": {
  "kernelspec": {
   "display_name": "Python 3",
   "language": "python",
   "name": "python3"
  },
  "language_info": {
   "codemirror_mode": {
    "name": "ipython",
    "version": 3
   },
   "file_extension": ".py",
   "mimetype": "text/x-python",
   "name": "python",
   "nbconvert_exporter": "python",
   "pygments_lexer": "ipython3",
   "version": "3.9.1"
  }
 },
 "nbformat": 4,
 "nbformat_minor": 5
}
